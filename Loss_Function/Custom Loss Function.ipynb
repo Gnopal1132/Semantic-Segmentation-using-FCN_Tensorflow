{
 "cells": [
  {
   "cell_type": "code",
   "execution_count": 1,
   "id": "4d4bf9f2",
   "metadata": {},
   "outputs": [],
   "source": [
    "import tensorflow as tf"
   ]
  },
  {
   "cell_type": "code",
   "execution_count": 3,
   "id": "a9774d5c",
   "metadata": {},
   "outputs": [],
   "source": [
    "K = tf.keras.backend\n",
    "\n",
    "def Categorical_Cross_Entropy():\n",
    "    def Loss_function(Y_True,Y_pred):\n",
    "        loss = K.categorical_crossentropy(Y_True,Y_pred,from_logits=False,axis = 3)\n",
    "        return tf.math.reduce_mean(loss)\n",
    "    return Loss_function"
   ]
  },
  {
   "cell_type": "code",
   "execution_count": null,
   "id": "f9089fc3",
   "metadata": {},
   "outputs": [],
   "source": []
  }
 ],
 "metadata": {
  "kernelspec": {
   "display_name": "Python 3",
   "language": "python",
   "name": "python3"
  },
  "language_info": {
   "codemirror_mode": {
    "name": "ipython",
    "version": 3
   },
   "file_extension": ".py",
   "mimetype": "text/x-python",
   "name": "python",
   "nbconvert_exporter": "python",
   "pygments_lexer": "ipython3",
   "version": "3.7.7"
  }
 },
 "nbformat": 4,
 "nbformat_minor": 5
}
