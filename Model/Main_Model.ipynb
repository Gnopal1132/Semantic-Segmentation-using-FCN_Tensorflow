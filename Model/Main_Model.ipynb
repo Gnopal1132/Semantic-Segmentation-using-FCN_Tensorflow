{
 "cells": [
  {
   "cell_type": "code",
   "execution_count": 2,
   "id": "b84cac5a",
   "metadata": {},
   "outputs": [],
   "source": [
    "import sys,os\n",
    "sys.path.append(os.path.abspath(r\"E:\\Study Material\\Python_Machine_AI\\Deep Learning_Lessons\\Praktisch\\Tensorflow\\Projects\\Semantic Segmentation FCN\"))"
   ]
  },
  {
   "cell_type": "code",
   "execution_count": 3,
   "id": "c8e8922d",
   "metadata": {},
   "outputs": [],
   "source": [
    "import tensorflow as tf\n",
    "from Model import Encoder,Decoder"
   ]
  },
  {
   "cell_type": "code",
   "execution_count": 5,
   "id": "5abdc8b7",
   "metadata": {},
   "outputs": [],
   "source": [
    "def FCN_Model(config):\n",
    "    X_size = config[\"Image\"][\"Size_x\"]\n",
    "    Y_size = config[\"Image\"][\"Size_y\"]\n",
    "    Num_channels = config[\"Image\"][\"Size_channel\"]\n",
    "    Num_classes = config[\"Network\"][\"num_classes\"]\n",
    "    Use_Pretrained_Weights = config[\"train\"][\"weight_initialization\"][\"use_pretrained\"]\n",
    "    Train_Scratch = config[\"Network\"][\"train_from_scratch\"]\n",
    "    Graph_path = config[\"Network\"][\"graph_path\"]\n",
    "    Decode = config[\"Network\"][\"Decoder\"]\n",
    "    \n",
    "    if Use_Pretrained_Weights:\n",
    "        json_file = open(Graph_path,\"r\")\n",
    "        model_json = json_file.read()\n",
    "        json_file.close()\n",
    "        model = tf.keras.models.model_from_json(model_json)\n",
    "    else:\n",
    "        if Train_Scratch:\n",
    "            input_,pool_3,pool_4,Encoder_Out = Encoder.Random_Initialized_Net(X_size,Y_size,Num_channels=Num_channels,Num_classes=Num_classes)\n",
    "        else:\n",
    "            input_,pool_3,pool_4,Encoder_Out = Encoder.Model_With_VGG_Weights(X_size,Y_size,Num_channels=Num_channels,Num_classes=Num_classes)\n",
    "    \n",
    "    if Decode == \"8X\":\n",
    "        decoder_out = Decoder.Decoder_8x(Encoder_out=Encoder_Out,pool3=pool_3,pool4=pool_4,num_class=Num_classes)\n",
    "    elif Decode == \"16X\":\n",
    "        decoder_out = Decoder.Decoder_16x(Encoder_out=Encoder_Out,pool3=pool_3,pool4=pool_4,num_class=Num_classes)\n",
    "    elif Decode == \"32X\":\n",
    "        decoder_out = Decoder.Decoder_32x(Encoder_out=Encoder_Out,pool3=pool_3,pool4=pool_4,num_class=Num_classes)\n",
    "        \n",
    "    else:\n",
    "        raise Exception(\"Unknown Decoder\")\n",
    "        \n",
    "    model = tf.keras.Model(inputs = input_,outputs = decoder_out)\n",
    "    \n",
    "    print(model.summary())\n",
    "    return model\n",
    "        "
   ]
  },
  {
   "cell_type": "code",
   "execution_count": null,
   "id": "c008bacd",
   "metadata": {},
   "outputs": [],
   "source": []
  }
 ],
 "metadata": {
  "kernelspec": {
   "display_name": "Python 3",
   "language": "python",
   "name": "python3"
  },
  "language_info": {
   "codemirror_mode": {
    "name": "ipython",
    "version": 3
   },
   "file_extension": ".py",
   "mimetype": "text/x-python",
   "name": "python",
   "nbconvert_exporter": "python",
   "pygments_lexer": "ipython3",
   "version": "3.7.7"
  }
 },
 "nbformat": 4,
 "nbformat_minor": 5
}
