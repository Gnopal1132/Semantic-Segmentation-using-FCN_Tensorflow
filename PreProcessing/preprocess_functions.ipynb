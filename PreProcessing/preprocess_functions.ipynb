{
 "cells": [
  {
   "cell_type": "code",
   "execution_count": 1,
   "id": "b87adcc8",
   "metadata": {},
   "outputs": [],
   "source": [
    "import numpy as np\n",
    "from PIL import Image,ImageStat\n",
    "import os\n",
    "from albumentations import ChannelShuffle,Blur,RGBShift,RandomBrightness"
   ]
  },
  {
   "cell_type": "code",
   "execution_count": 6,
   "id": "99ac4c82",
   "metadata": {},
   "outputs": [],
   "source": [
    "def Read_Image(Instance,size_x,size_y):\n",
    "    image = Image.open(Instance[0])\n",
    "    image = image.resize((size_x,size_y),Image.ANTIALIAS)\n",
    "    image = image.convert('RGB')\n",
    "    return np.array(image)"
   ]
  },
  {
   "cell_type": "code",
   "execution_count": 3,
   "id": "df4503b7",
   "metadata": {},
   "outputs": [],
   "source": [
    "def Read_mask(Instance,size_x,size_y):\n",
    "    mask = Image.open(Instance[1])\n",
    "    mask = mask.resize((size_x,size_y),Image.ANTIALIAS)\n",
    "    mask = np.array(mask,dtype = np.float32)\n",
    "    mask[mask == 255.] = 0.\n",
    "    return mask"
   ]
  },
  {
   "cell_type": "code",
   "execution_count": 4,
   "id": "90dad911",
   "metadata": {},
   "outputs": [],
   "source": [
    "def One_Hot_Encoder(mask,Size_x,Size_y,num_classes):\n",
    "    One_hot_mask = np.zeros((Size_x,Size_y,num_classes))\n",
    "    for i in range(Size_x):\n",
    "        for j in range(Size_y):\n",
    "            pix_val = mask[i,j]\n",
    "            One_hot_mask[i,j,int(pix_val)] = 1\n",
    "    return One_hot_mask"
   ]
  },
  {
   "cell_type": "code",
   "execution_count": 3,
   "id": "c13c4c90",
   "metadata": {},
   "outputs": [],
   "source": [
    "def Augment_me(image,mask):\n",
    "    X = image\n",
    "    Y = mask\n",
    "    \n",
    "    # Executing with Default Parameters\n",
    "    Aug = ChannelShuffle(p = 0.5)\n",
    "    Augmented = Aug(image = X,mask = Y)\n",
    "    X = Augmented[\"image\"]\n",
    "    Y = Augmented[\"mask\"]\n",
    "    \n",
    "    Aug = Blur(p = 0.5)\n",
    "    Augmented = Aug(image = X,mask = Y)\n",
    "    X = Augmented[\"image\"]\n",
    "    Y = Augmented[\"mask\"]\n",
    "    \n",
    "    Aug = RGBShift(p = 0.5)\n",
    "    Augmented = Aug(image = X,mask = Y)\n",
    "    X = Augmented[\"image\"]\n",
    "    Y = Augmented[\"mask\"]\n",
    "    \n",
    "    Aug = RandomBrightness(p = 0.5)\n",
    "    Augmented = Aug(image = X,mask = Y)\n",
    "    X = Augmented[\"image\"]\n",
    "    Y = Augmented[\"mask\"]\n",
    "    \n",
    "    return X,Y\n",
    "    "
   ]
  },
  {
   "cell_type": "code",
   "execution_count": 4,
   "id": "adb989a7",
   "metadata": {},
   "outputs": [],
   "source": [
    "def Normalize_Scaling(img):\n",
    "    img = Image.fromarray(img)\n",
    "    stat = ImageStat.Stat(img)\n",
    "    img = np.array(img)\n",
    "    \n",
    "    img = (img - stat.mean)/stat.stddev\n",
    "    return img"
   ]
  },
  {
   "cell_type": "code",
   "execution_count": 5,
   "id": "81052be3",
   "metadata": {},
   "outputs": [],
   "source": [
    "def Normalize_Sum_to_1(img):\n",
    "    img = img.astype(\"float\")\n",
    "    img /= 255.\n",
    "    return img"
   ]
  },
  {
   "cell_type": "code",
   "execution_count": 6,
   "id": "bd0d150a",
   "metadata": {},
   "outputs": [],
   "source": [
    "def Zooming_Image(img,X_Shift,Y_shift):    \n",
    "    img = img[X_Shift:-X_Shift, Y_shift:-Y_shift, :]\n",
    "    return img"
   ]
  },
  {
   "cell_type": "code",
   "execution_count": null,
   "id": "3494181b",
   "metadata": {},
   "outputs": [],
   "source": []
  }
 ],
 "metadata": {
  "kernelspec": {
   "display_name": "Python 3",
   "language": "python",
   "name": "python3"
  },
  "language_info": {
   "codemirror_mode": {
    "name": "ipython",
    "version": 3
   },
   "file_extension": ".py",
   "mimetype": "text/x-python",
   "name": "python",
   "nbconvert_exporter": "python",
   "pygments_lexer": "ipython3",
   "version": "3.7.7"
  }
 },
 "nbformat": 4,
 "nbformat_minor": 5
}
