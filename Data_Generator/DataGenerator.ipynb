{
 "cells": [
  {
   "cell_type": "code",
   "execution_count": 4,
   "id": "77298628",
   "metadata": {},
   "outputs": [],
   "source": [
    "import sys,os\n",
    "sys.path.append(os.path.abspath(r\"E:\\Study Material\\Python_Machine_AI\\Deep Learning_Lessons\\Praktisch\\Tensorflow\\Projects\\Semantic Segmentation FCN\"))"
   ]
  },
  {
   "cell_type": "code",
   "execution_count": 5,
   "id": "a1ef9072",
   "metadata": {},
   "outputs": [],
   "source": [
    "import tensorflow as tf\n",
    "import numpy as np\n",
    "from tensorflow.keras.applications.vgg16 import preprocess_input\n",
    "from PreProcessing.preprocess_functions import Read_Image,Read_mask,Augment_me,One_Hot_Encoder"
   ]
  },
  {
   "cell_type": "code",
   "execution_count": 22,
   "id": "2cc02ee3",
   "metadata": {},
   "outputs": [],
   "source": [
    "class DataGenerator(tf.keras.utils.Sequence):\n",
    "    def __init__(self,config,dataset,shuffle = True,use_aug = False):\n",
    "        self.config = config\n",
    "        self.shuffle = shuffle\n",
    "        self.use_aug = use_aug\n",
    "        self.dataset = dataset\n",
    "        self.dataset_len = len(dataset)\n",
    "        self.indices = np.arange(self.dataset_len)\n",
    "        self.num_classes = self.config[\"Network\"][\"num_classes\"]\n",
    "        self.batchsize = self.config[\"train\"][\"batch_size\"]\n",
    "        self.on_epoch_end()  # Triggered once at very beginning\n",
    "    \n",
    "    def on_epoch_end(self):  # After Every Epoch\n",
    "        # Updates index after each epoch \n",
    "        if self.shuffle:\n",
    "            return np.random.shuffle(self.indices)\n",
    "        \n",
    "    def __len__(self):\n",
    "        # Denotes number of Batches per epoch\n",
    "        return int(np.floor(self.dataset_len/self.batchsize))\n",
    "    \n",
    "    # When batch corresponding to a given index is called,the generator executes the __getitem__ method\n",
    "    def __getitem__(self,index):\n",
    "        # Generates one batch of data\n",
    "        \n",
    "        # Getting the indices for datapoints\n",
    "        indices = self.indices[index*self.batchsize : (index+1)*self.batchsize]\n",
    "        \n",
    "        # Getting List of Id's\n",
    "        dataset_temp = [self.dataset[k] for k in indices]\n",
    "        \n",
    "        # Generate the Data\n",
    "        X,y = self.__data_generation(dataset_temp)\n",
    "        return X,y\n",
    "    \n",
    "    #This data generation method is most crucial one it produces the batch of data takes as argument list of IDs of Target Batch\n",
    "    def __data_generation(self,ID):\n",
    "        \n",
    "        X_Batch = []\n",
    "        Y_Batch = []\n",
    "        for instance in ID:\n",
    "            Size_x = self.config[\"Image\"][\"Size_x\"]\n",
    "            Size_y = self.config[\"Image\"][\"Size_y\"]\n",
    "            channels = self.config[\"Image\"][\"Size_channel\"]\n",
    "            \n",
    "            image = Read_Image(instance,Size_x,Size_y)\n",
    "            mask = Read_mask(instance,Size_x,Size_y)\n",
    "        \n",
    "            if self.use_aug:\n",
    "                image,mask = Augment_me(image,mask)\n",
    "            \n",
    "            One_Hot = One_Hot_Encoder(mask,Size_x,Size_y,num_classes = self.num_classes)\n",
    "            #image = Normalization_Scaling(image)\n",
    "            \n",
    "            image = preprocess_input(image)\n",
    "            X_Batch.append(image)\n",
    "            Y_Batch.append(One_Hot)\n",
    "            \n",
    "        X_Batch = np.asarray(X_Batch,dtype=np.float32)\n",
    "        Y_Batch = np.asarray(Y_Batch,dtype=np.float32)\n",
    "        \n",
    "        return X_Batch,Y_Batch"
   ]
  },
  {
   "cell_type": "code",
   "execution_count": null,
   "id": "326a2b88",
   "metadata": {},
   "outputs": [],
   "source": []
  }
 ],
 "metadata": {
  "kernelspec": {
   "display_name": "Python 3",
   "language": "python",
   "name": "python3"
  },
  "language_info": {
   "codemirror_mode": {
    "name": "ipython",
    "version": 3
   },
   "file_extension": ".py",
   "mimetype": "text/x-python",
   "name": "python",
   "nbconvert_exporter": "python",
   "pygments_lexer": "ipython3",
   "version": "3.7.7"
  }
 },
 "nbformat": 4,
 "nbformat_minor": 5
}
